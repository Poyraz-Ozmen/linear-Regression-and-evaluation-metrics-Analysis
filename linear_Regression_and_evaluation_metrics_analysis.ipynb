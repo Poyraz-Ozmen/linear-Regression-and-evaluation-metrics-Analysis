{
  "nbformat": 4,
  "nbformat_minor": 0,
  "metadata": {
    "colab": {
      "name": "HW4_LinearRegression (1).ipynb",
      "provenance": [],
      "collapsed_sections": []
    },
    "kernelspec": {
      "name": "python3",
      "display_name": "Python 3"
    }
  },
  "cells": [
    {
      "cell_type": "markdown",
      "metadata": {
        "id": "DTfDIhAYYjaX",
        "colab_type": "text"
      },
      "source": [
        "# Load the dataset"
      ]
    },
    {
      "cell_type": "code",
      "metadata": {
        "id": "yFpeyxi8aqIl",
        "colab_type": "code",
        "outputId": "1edfc208-7973-4b6f-e978-55048b5286fe",
        "colab": {
          "base_uri": "https://localhost:8080/",
          "height": 304
        }
      },
      "source": [
        "import pandas as pd\n",
        "import numpy as np\n",
        "import matplotlib.pyplot as plt                   \n",
        "\n",
        "df = pd.read_csv('https://raw.githubusercontent.com/OpenClassrooms-Student-Center/Evaluate-Improve-Models/master/house_prices.csv')\n",
        "df.sample(5)"
      ],
      "execution_count": 0,
      "outputs": [
        {
          "output_type": "execute_result",
          "data": {
            "text/html": [
              "<div>\n",
              "<style scoped>\n",
              "    .dataframe tbody tr th:only-of-type {\n",
              "        vertical-align: middle;\n",
              "    }\n",
              "\n",
              "    .dataframe tbody tr th {\n",
              "        vertical-align: top;\n",
              "    }\n",
              "\n",
              "    .dataframe thead th {\n",
              "        text-align: right;\n",
              "    }\n",
              "</style>\n",
              "<table border=\"1\" class=\"dataframe\">\n",
              "  <thead>\n",
              "    <tr style=\"text-align: right;\">\n",
              "      <th></th>\n",
              "      <th>MS SubClass</th>\n",
              "      <th>Lot Frontage</th>\n",
              "      <th>Lot Area</th>\n",
              "      <th>Overall Qual</th>\n",
              "      <th>Overall Cond</th>\n",
              "      <th>Year Built</th>\n",
              "      <th>Year Remod/Add</th>\n",
              "      <th>Mas Vnr Area</th>\n",
              "      <th>BsmtFin SF 1</th>\n",
              "      <th>BsmtFin SF 2</th>\n",
              "      <th>Bsmt Unf SF</th>\n",
              "      <th>Total Bsmt SF</th>\n",
              "      <th>1st Flr SF</th>\n",
              "      <th>2nd Flr SF</th>\n",
              "      <th>Low Qual Fin SF</th>\n",
              "      <th>Gr Liv Area</th>\n",
              "      <th>Bsmt Full Bath</th>\n",
              "      <th>Bsmt Half Bath</th>\n",
              "      <th>Full Bath</th>\n",
              "      <th>Half Bath</th>\n",
              "      <th>Bedroom AbvGr</th>\n",
              "      <th>Kitchen AbvGr</th>\n",
              "      <th>TotRms AbvGrd</th>\n",
              "      <th>Fireplaces</th>\n",
              "      <th>Garage Yr Blt</th>\n",
              "      <th>Garage Cars</th>\n",
              "      <th>Garage Area</th>\n",
              "      <th>Wood Deck SF</th>\n",
              "      <th>Open Porch SF</th>\n",
              "      <th>Enclosed Porch</th>\n",
              "      <th>3Ssn Porch</th>\n",
              "      <th>Screen Porch</th>\n",
              "      <th>Pool Area</th>\n",
              "      <th>Misc Val</th>\n",
              "      <th>Mo Sold</th>\n",
              "      <th>Yr Sold</th>\n",
              "      <th>MS Zoning_A (agr)</th>\n",
              "      <th>MS Zoning_C (all)</th>\n",
              "      <th>MS Zoning_FV</th>\n",
              "      <th>MS Zoning_I (all)</th>\n",
              "      <th>...</th>\n",
              "      <th>Garage Qual_Po</th>\n",
              "      <th>Garage Qual_TA</th>\n",
              "      <th>Garage Cond_Ex</th>\n",
              "      <th>Garage Cond_Fa</th>\n",
              "      <th>Garage Cond_Gd</th>\n",
              "      <th>Garage Cond_Po</th>\n",
              "      <th>Garage Cond_TA</th>\n",
              "      <th>Paved Drive_N</th>\n",
              "      <th>Paved Drive_P</th>\n",
              "      <th>Paved Drive_Y</th>\n",
              "      <th>Pool QC_Ex</th>\n",
              "      <th>Pool QC_Fa</th>\n",
              "      <th>Pool QC_Gd</th>\n",
              "      <th>Pool QC_TA</th>\n",
              "      <th>Fence_GdPrv</th>\n",
              "      <th>Fence_GdWo</th>\n",
              "      <th>Fence_MnPrv</th>\n",
              "      <th>Fence_MnWw</th>\n",
              "      <th>Misc Feature_Elev</th>\n",
              "      <th>Misc Feature_Gar2</th>\n",
              "      <th>Misc Feature_Othr</th>\n",
              "      <th>Misc Feature_Shed</th>\n",
              "      <th>Misc Feature_TenC</th>\n",
              "      <th>Sale Type_COD</th>\n",
              "      <th>Sale Type_CWD</th>\n",
              "      <th>Sale Type_Con</th>\n",
              "      <th>Sale Type_ConLD</th>\n",
              "      <th>Sale Type_ConLI</th>\n",
              "      <th>Sale Type_ConLw</th>\n",
              "      <th>Sale Type_New</th>\n",
              "      <th>Sale Type_Oth</th>\n",
              "      <th>Sale Type_VWD</th>\n",
              "      <th>Sale Type_WD</th>\n",
              "      <th>Sale Condition_Abnorml</th>\n",
              "      <th>Sale Condition_AdjLand</th>\n",
              "      <th>Sale Condition_Alloca</th>\n",
              "      <th>Sale Condition_Family</th>\n",
              "      <th>Sale Condition_Normal</th>\n",
              "      <th>Sale Condition_Partial</th>\n",
              "      <th>SalesPrice</th>\n",
              "    </tr>\n",
              "  </thead>\n",
              "  <tbody>\n",
              "    <tr>\n",
              "      <th>1976</th>\n",
              "      <td>30</td>\n",
              "      <td>56.0</td>\n",
              "      <td>4480</td>\n",
              "      <td>5</td>\n",
              "      <td>5</td>\n",
              "      <td>1922</td>\n",
              "      <td>1950</td>\n",
              "      <td>0.0</td>\n",
              "      <td>782.0</td>\n",
              "      <td>0.0</td>\n",
              "      <td>240.0</td>\n",
              "      <td>1022.0</td>\n",
              "      <td>1022</td>\n",
              "      <td>0</td>\n",
              "      <td>0</td>\n",
              "      <td>1022</td>\n",
              "      <td>1.0</td>\n",
              "      <td>0.0</td>\n",
              "      <td>1</td>\n",
              "      <td>0</td>\n",
              "      <td>2</td>\n",
              "      <td>1</td>\n",
              "      <td>4</td>\n",
              "      <td>1</td>\n",
              "      <td>1922.0</td>\n",
              "      <td>1.0</td>\n",
              "      <td>184.0</td>\n",
              "      <td>0</td>\n",
              "      <td>122</td>\n",
              "      <td>20</td>\n",
              "      <td>0</td>\n",
              "      <td>0</td>\n",
              "      <td>0</td>\n",
              "      <td>0</td>\n",
              "      <td>2</td>\n",
              "      <td>2007</td>\n",
              "      <td>0</td>\n",
              "      <td>0</td>\n",
              "      <td>0</td>\n",
              "      <td>0</td>\n",
              "      <td>...</td>\n",
              "      <td>0</td>\n",
              "      <td>1</td>\n",
              "      <td>0</td>\n",
              "      <td>1</td>\n",
              "      <td>0</td>\n",
              "      <td>0</td>\n",
              "      <td>0</td>\n",
              "      <td>1</td>\n",
              "      <td>0</td>\n",
              "      <td>0</td>\n",
              "      <td>0</td>\n",
              "      <td>0</td>\n",
              "      <td>0</td>\n",
              "      <td>0</td>\n",
              "      <td>0</td>\n",
              "      <td>0</td>\n",
              "      <td>1</td>\n",
              "      <td>0</td>\n",
              "      <td>0</td>\n",
              "      <td>0</td>\n",
              "      <td>0</td>\n",
              "      <td>0</td>\n",
              "      <td>0</td>\n",
              "      <td>0</td>\n",
              "      <td>0</td>\n",
              "      <td>0</td>\n",
              "      <td>0</td>\n",
              "      <td>0</td>\n",
              "      <td>0</td>\n",
              "      <td>0</td>\n",
              "      <td>0</td>\n",
              "      <td>0</td>\n",
              "      <td>1</td>\n",
              "      <td>0</td>\n",
              "      <td>0</td>\n",
              "      <td>0</td>\n",
              "      <td>0</td>\n",
              "      <td>1</td>\n",
              "      <td>0</td>\n",
              "      <td>89500</td>\n",
              "    </tr>\n",
              "    <tr>\n",
              "      <th>2702</th>\n",
              "      <td>30</td>\n",
              "      <td>55.0</td>\n",
              "      <td>8250</td>\n",
              "      <td>5</td>\n",
              "      <td>7</td>\n",
              "      <td>1935</td>\n",
              "      <td>1950</td>\n",
              "      <td>0.0</td>\n",
              "      <td>0.0</td>\n",
              "      <td>0.0</td>\n",
              "      <td>0.0</td>\n",
              "      <td>0.0</td>\n",
              "      <td>1032</td>\n",
              "      <td>0</td>\n",
              "      <td>0</td>\n",
              "      <td>1032</td>\n",
              "      <td>0.0</td>\n",
              "      <td>0.0</td>\n",
              "      <td>1</td>\n",
              "      <td>0</td>\n",
              "      <td>2</td>\n",
              "      <td>1</td>\n",
              "      <td>6</td>\n",
              "      <td>1</td>\n",
              "      <td>1939.0</td>\n",
              "      <td>1.0</td>\n",
              "      <td>260.0</td>\n",
              "      <td>0</td>\n",
              "      <td>0</td>\n",
              "      <td>121</td>\n",
              "      <td>0</td>\n",
              "      <td>0</td>\n",
              "      <td>0</td>\n",
              "      <td>0</td>\n",
              "      <td>6</td>\n",
              "      <td>2006</td>\n",
              "      <td>0</td>\n",
              "      <td>0</td>\n",
              "      <td>0</td>\n",
              "      <td>0</td>\n",
              "      <td>...</td>\n",
              "      <td>0</td>\n",
              "      <td>1</td>\n",
              "      <td>0</td>\n",
              "      <td>0</td>\n",
              "      <td>0</td>\n",
              "      <td>0</td>\n",
              "      <td>1</td>\n",
              "      <td>0</td>\n",
              "      <td>0</td>\n",
              "      <td>1</td>\n",
              "      <td>0</td>\n",
              "      <td>0</td>\n",
              "      <td>0</td>\n",
              "      <td>0</td>\n",
              "      <td>0</td>\n",
              "      <td>0</td>\n",
              "      <td>0</td>\n",
              "      <td>0</td>\n",
              "      <td>0</td>\n",
              "      <td>0</td>\n",
              "      <td>0</td>\n",
              "      <td>0</td>\n",
              "      <td>0</td>\n",
              "      <td>0</td>\n",
              "      <td>0</td>\n",
              "      <td>0</td>\n",
              "      <td>0</td>\n",
              "      <td>0</td>\n",
              "      <td>0</td>\n",
              "      <td>0</td>\n",
              "      <td>0</td>\n",
              "      <td>0</td>\n",
              "      <td>1</td>\n",
              "      <td>0</td>\n",
              "      <td>0</td>\n",
              "      <td>0</td>\n",
              "      <td>0</td>\n",
              "      <td>1</td>\n",
              "      <td>0</td>\n",
              "      <td>125000</td>\n",
              "    </tr>\n",
              "    <tr>\n",
              "      <th>2768</th>\n",
              "      <td>85</td>\n",
              "      <td>57.0</td>\n",
              "      <td>8846</td>\n",
              "      <td>5</td>\n",
              "      <td>5</td>\n",
              "      <td>1996</td>\n",
              "      <td>1996</td>\n",
              "      <td>0.0</td>\n",
              "      <td>298.0</td>\n",
              "      <td>0.0</td>\n",
              "      <td>572.0</td>\n",
              "      <td>870.0</td>\n",
              "      <td>914</td>\n",
              "      <td>0</td>\n",
              "      <td>0</td>\n",
              "      <td>914</td>\n",
              "      <td>0.0</td>\n",
              "      <td>0.0</td>\n",
              "      <td>1</td>\n",
              "      <td>0</td>\n",
              "      <td>2</td>\n",
              "      <td>1</td>\n",
              "      <td>5</td>\n",
              "      <td>0</td>\n",
              "      <td>1998.0</td>\n",
              "      <td>2.0</td>\n",
              "      <td>576.0</td>\n",
              "      <td>0</td>\n",
              "      <td>0</td>\n",
              "      <td>0</td>\n",
              "      <td>0</td>\n",
              "      <td>0</td>\n",
              "      <td>0</td>\n",
              "      <td>0</td>\n",
              "      <td>7</td>\n",
              "      <td>2006</td>\n",
              "      <td>0</td>\n",
              "      <td>0</td>\n",
              "      <td>0</td>\n",
              "      <td>0</td>\n",
              "      <td>...</td>\n",
              "      <td>0</td>\n",
              "      <td>1</td>\n",
              "      <td>0</td>\n",
              "      <td>0</td>\n",
              "      <td>0</td>\n",
              "      <td>0</td>\n",
              "      <td>1</td>\n",
              "      <td>0</td>\n",
              "      <td>0</td>\n",
              "      <td>1</td>\n",
              "      <td>0</td>\n",
              "      <td>0</td>\n",
              "      <td>0</td>\n",
              "      <td>0</td>\n",
              "      <td>0</td>\n",
              "      <td>0</td>\n",
              "      <td>0</td>\n",
              "      <td>0</td>\n",
              "      <td>0</td>\n",
              "      <td>0</td>\n",
              "      <td>0</td>\n",
              "      <td>0</td>\n",
              "      <td>0</td>\n",
              "      <td>0</td>\n",
              "      <td>0</td>\n",
              "      <td>0</td>\n",
              "      <td>0</td>\n",
              "      <td>0</td>\n",
              "      <td>0</td>\n",
              "      <td>0</td>\n",
              "      <td>0</td>\n",
              "      <td>0</td>\n",
              "      <td>1</td>\n",
              "      <td>0</td>\n",
              "      <td>0</td>\n",
              "      <td>0</td>\n",
              "      <td>0</td>\n",
              "      <td>1</td>\n",
              "      <td>0</td>\n",
              "      <td>148000</td>\n",
              "    </tr>\n",
              "    <tr>\n",
              "      <th>8</th>\n",
              "      <td>120</td>\n",
              "      <td>39.0</td>\n",
              "      <td>5389</td>\n",
              "      <td>8</td>\n",
              "      <td>5</td>\n",
              "      <td>1995</td>\n",
              "      <td>1996</td>\n",
              "      <td>0.0</td>\n",
              "      <td>1180.0</td>\n",
              "      <td>0.0</td>\n",
              "      <td>415.0</td>\n",
              "      <td>1595.0</td>\n",
              "      <td>1616</td>\n",
              "      <td>0</td>\n",
              "      <td>0</td>\n",
              "      <td>1616</td>\n",
              "      <td>1.0</td>\n",
              "      <td>0.0</td>\n",
              "      <td>2</td>\n",
              "      <td>0</td>\n",
              "      <td>2</td>\n",
              "      <td>1</td>\n",
              "      <td>5</td>\n",
              "      <td>1</td>\n",
              "      <td>1995.0</td>\n",
              "      <td>2.0</td>\n",
              "      <td>608.0</td>\n",
              "      <td>237</td>\n",
              "      <td>152</td>\n",
              "      <td>0</td>\n",
              "      <td>0</td>\n",
              "      <td>0</td>\n",
              "      <td>0</td>\n",
              "      <td>0</td>\n",
              "      <td>3</td>\n",
              "      <td>2010</td>\n",
              "      <td>0</td>\n",
              "      <td>0</td>\n",
              "      <td>0</td>\n",
              "      <td>0</td>\n",
              "      <td>...</td>\n",
              "      <td>0</td>\n",
              "      <td>1</td>\n",
              "      <td>0</td>\n",
              "      <td>0</td>\n",
              "      <td>0</td>\n",
              "      <td>0</td>\n",
              "      <td>1</td>\n",
              "      <td>0</td>\n",
              "      <td>0</td>\n",
              "      <td>1</td>\n",
              "      <td>0</td>\n",
              "      <td>0</td>\n",
              "      <td>0</td>\n",
              "      <td>0</td>\n",
              "      <td>0</td>\n",
              "      <td>0</td>\n",
              "      <td>0</td>\n",
              "      <td>0</td>\n",
              "      <td>0</td>\n",
              "      <td>0</td>\n",
              "      <td>0</td>\n",
              "      <td>0</td>\n",
              "      <td>0</td>\n",
              "      <td>0</td>\n",
              "      <td>0</td>\n",
              "      <td>0</td>\n",
              "      <td>0</td>\n",
              "      <td>0</td>\n",
              "      <td>0</td>\n",
              "      <td>0</td>\n",
              "      <td>0</td>\n",
              "      <td>0</td>\n",
              "      <td>1</td>\n",
              "      <td>0</td>\n",
              "      <td>0</td>\n",
              "      <td>0</td>\n",
              "      <td>0</td>\n",
              "      <td>1</td>\n",
              "      <td>0</td>\n",
              "      <td>236500</td>\n",
              "    </tr>\n",
              "    <tr>\n",
              "      <th>758</th>\n",
              "      <td>50</td>\n",
              "      <td>60.0</td>\n",
              "      <td>5160</td>\n",
              "      <td>6</td>\n",
              "      <td>6</td>\n",
              "      <td>1927</td>\n",
              "      <td>1950</td>\n",
              "      <td>0.0</td>\n",
              "      <td>0.0</td>\n",
              "      <td>0.0</td>\n",
              "      <td>1204.0</td>\n",
              "      <td>1204.0</td>\n",
              "      <td>1204</td>\n",
              "      <td>462</td>\n",
              "      <td>0</td>\n",
              "      <td>1666</td>\n",
              "      <td>0.0</td>\n",
              "      <td>0.0</td>\n",
              "      <td>1</td>\n",
              "      <td>0</td>\n",
              "      <td>3</td>\n",
              "      <td>1</td>\n",
              "      <td>4</td>\n",
              "      <td>0</td>\n",
              "      <td>1927.0</td>\n",
              "      <td>1.0</td>\n",
              "      <td>384.0</td>\n",
              "      <td>0</td>\n",
              "      <td>0</td>\n",
              "      <td>148</td>\n",
              "      <td>0</td>\n",
              "      <td>0</td>\n",
              "      <td>0</td>\n",
              "      <td>0</td>\n",
              "      <td>8</td>\n",
              "      <td>2009</td>\n",
              "      <td>0</td>\n",
              "      <td>0</td>\n",
              "      <td>0</td>\n",
              "      <td>0</td>\n",
              "      <td>...</td>\n",
              "      <td>0</td>\n",
              "      <td>0</td>\n",
              "      <td>0</td>\n",
              "      <td>0</td>\n",
              "      <td>0</td>\n",
              "      <td>0</td>\n",
              "      <td>1</td>\n",
              "      <td>0</td>\n",
              "      <td>0</td>\n",
              "      <td>1</td>\n",
              "      <td>0</td>\n",
              "      <td>0</td>\n",
              "      <td>0</td>\n",
              "      <td>0</td>\n",
              "      <td>0</td>\n",
              "      <td>0</td>\n",
              "      <td>0</td>\n",
              "      <td>0</td>\n",
              "      <td>0</td>\n",
              "      <td>0</td>\n",
              "      <td>0</td>\n",
              "      <td>0</td>\n",
              "      <td>0</td>\n",
              "      <td>0</td>\n",
              "      <td>0</td>\n",
              "      <td>0</td>\n",
              "      <td>0</td>\n",
              "      <td>0</td>\n",
              "      <td>0</td>\n",
              "      <td>0</td>\n",
              "      <td>0</td>\n",
              "      <td>0</td>\n",
              "      <td>1</td>\n",
              "      <td>0</td>\n",
              "      <td>0</td>\n",
              "      <td>0</td>\n",
              "      <td>0</td>\n",
              "      <td>1</td>\n",
              "      <td>0</td>\n",
              "      <td>135000</td>\n",
              "    </tr>\n",
              "  </tbody>\n",
              "</table>\n",
              "<p>5 rows × 305 columns</p>\n",
              "</div>"
            ],
            "text/plain": [
              "      MS SubClass  Lot Frontage  ...  Sale Condition_Partial  SalesPrice\n",
              "1976           30          56.0  ...                       0       89500\n",
              "2702           30          55.0  ...                       0      125000\n",
              "2768           85          57.0  ...                       0      148000\n",
              "8             120          39.0  ...                       0      236500\n",
              "758            50          60.0  ...                       0      135000\n",
              "\n",
              "[5 rows x 305 columns]"
            ]
          },
          "metadata": {
            "tags": []
          },
          "execution_count": 9
        }
      ]
    },
    {
      "cell_type": "markdown",
      "metadata": {
        "id": "vHC8A8Io8oQG",
        "colab_type": "text"
      },
      "source": [
        "# \"Garage Area\" and \"SalesPrice\" features are selected to analyze."
      ]
    },
    {
      "cell_type": "code",
      "metadata": {
        "id": "B5IoFFN98w6a",
        "colab_type": "code",
        "outputId": "36af87b3-892d-4dca-c61b-ad5e1302a365",
        "colab": {
          "base_uri": "https://localhost:8080/",
          "height": 204
        }
      },
      "source": [
        "\n",
        "new_df = df[['Garage Area','SalesPrice']]\n",
        "new_df.sample(5)"
      ],
      "execution_count": 0,
      "outputs": [
        {
          "output_type": "execute_result",
          "data": {
            "text/html": [
              "<div>\n",
              "<style scoped>\n",
              "    .dataframe tbody tr th:only-of-type {\n",
              "        vertical-align: middle;\n",
              "    }\n",
              "\n",
              "    .dataframe tbody tr th {\n",
              "        vertical-align: top;\n",
              "    }\n",
              "\n",
              "    .dataframe thead th {\n",
              "        text-align: right;\n",
              "    }\n",
              "</style>\n",
              "<table border=\"1\" class=\"dataframe\">\n",
              "  <thead>\n",
              "    <tr style=\"text-align: right;\">\n",
              "      <th></th>\n",
              "      <th>Garage Area</th>\n",
              "      <th>SalesPrice</th>\n",
              "    </tr>\n",
              "  </thead>\n",
              "  <tbody>\n",
              "    <tr>\n",
              "      <th>531</th>\n",
              "      <td>588.0</td>\n",
              "      <td>234500</td>\n",
              "    </tr>\n",
              "    <tr>\n",
              "      <th>1713</th>\n",
              "      <td>554.0</td>\n",
              "      <td>232698</td>\n",
              "    </tr>\n",
              "    <tr>\n",
              "      <th>1149</th>\n",
              "      <td>384.0</td>\n",
              "      <td>128000</td>\n",
              "    </tr>\n",
              "    <tr>\n",
              "      <th>553</th>\n",
              "      <td>360.0</td>\n",
              "      <td>76000</td>\n",
              "    </tr>\n",
              "    <tr>\n",
              "      <th>2472</th>\n",
              "      <td>0.0</td>\n",
              "      <td>132000</td>\n",
              "    </tr>\n",
              "  </tbody>\n",
              "</table>\n",
              "</div>"
            ],
            "text/plain": [
              "      Garage Area  SalesPrice\n",
              "531         588.0      234500\n",
              "1713        554.0      232698\n",
              "1149        384.0      128000\n",
              "553         360.0       76000\n",
              "2472          0.0      132000"
            ]
          },
          "metadata": {
            "tags": []
          },
          "execution_count": 10
        }
      ]
    },
    {
      "cell_type": "markdown",
      "metadata": {
        "id": "TpEvfXkM9r_2",
        "colab_type": "text"
      },
      "source": [
        "## Convert the data into numpy arrays of two variables, X and y."
      ]
    },
    {
      "cell_type": "code",
      "metadata": {
        "id": "e9CMMob_hzLe",
        "colab_type": "code",
        "outputId": "8e3e6f76-9278-4f11-d0aa-29b099016ff7",
        "colab": {
          "base_uri": "https://localhost:8080/",
          "height": 51
        }
      },
      "source": [
        "X = np.array(new_df[['Garage Area']])\n",
        "y = np.array(new_df[['SalesPrice']]) \n",
        "print(X.shape) # Vewing the shape of X\n",
        "print(y.shape) # Vewing the shape of y\n",
        "\n"
      ],
      "execution_count": 0,
      "outputs": [
        {
          "output_type": "stream",
          "text": [
            "(2930, 1)\n",
            "(2930, 1)\n"
          ],
          "name": "stdout"
        }
      ]
    },
    {
      "cell_type": "markdown",
      "metadata": {
        "id": "JjnOjQWL_HVv",
        "colab_type": "text"
      },
      "source": [
        "## Split train and test data with 0.2 ratio."
      ]
    },
    {
      "cell_type": "code",
      "metadata": {
        "id": "Qbhe6KTZaTqR",
        "colab_type": "code",
        "colab": {}
      },
      "source": [
        "from sklearn.model_selection import train_test_split\n",
        "# Spliting into train & test dataset\n",
        "X_train,X_test,y_train,y_test = train_test_split(X, y, test_size = 0.2,random_state=15)"
      ],
      "execution_count": 0,
      "outputs": []
    },
    {
      "cell_type": "markdown",
      "metadata": {
        "id": "l2d820kV_zO7",
        "colab_type": "text"
      },
      "source": [
        "# Linear Regression\n",
        "Train a linear regression."
      ]
    },
    {
      "cell_type": "code",
      "metadata": {
        "id": "XRb1ZUTbaoy0",
        "colab_type": "code",
        "outputId": "563a9ffa-c23a-420e-e20f-1ebedbc46237",
        "colab": {
          "base_uri": "https://localhost:8080/",
          "height": 34
        }
      },
      "source": [
        "from sklearn import linear_model \n",
        "\n",
        "# Creating a regressior model\n",
        "regressor = linear_model.LinearRegression()\n",
        "# Fiting the dataset into the model\n",
        "regressor.fit(X_train,y_train) "
      ],
      "execution_count": 0,
      "outputs": [
        {
          "output_type": "execute_result",
          "data": {
            "text/plain": [
              "LinearRegression(copy_X=True, fit_intercept=True, n_jobs=None, normalize=False)"
            ]
          },
          "metadata": {
            "tags": []
          },
          "execution_count": 13
        }
      ]
    },
    {
      "cell_type": "markdown",
      "metadata": {
        "id": "v670cHDcAGwn",
        "colab_type": "text"
      },
      "source": [
        "## Calculate train and test R2."
      ]
    },
    {
      "cell_type": "code",
      "metadata": {
        "id": "YzG3jkxgaxL0",
        "colab_type": "code",
        "outputId": "de5c669d-ba27-4607-eef9-ff55f487625b",
        "colab": {
          "base_uri": "https://localhost:8080/",
          "height": 51
        }
      },
      "source": [
        "from sklearn.metrics import r2_score\n",
        "\n",
        "y_pred = regressor.predict(X_train)\n",
        "\n",
        "y_pred2 = regressor.predict(X_test)\n",
        "# R^2 (coefficient of determination) regression score function.\n",
        "\n",
        "# code comes here\n",
        "print(\"Train:\", r2_score(y_train,y_pred)) \n",
        "\n",
        "# code comes here\n",
        "print(\"Test:\", r2_score(y_test,y_pred2))"
      ],
      "execution_count": 0,
      "outputs": [
        {
          "output_type": "stream",
          "text": [
            "Train: 0.41185642291512536\n",
            "Test: 0.4021446938471793\n"
          ],
          "name": "stdout"
        }
      ]
    },
    {
      "cell_type": "markdown",
      "metadata": {
        "id": "CuKDdtxSvH86",
        "colab_type": "text"
      },
      "source": [
        "## Print the bias and the slope."
      ]
    },
    {
      "cell_type": "code",
      "metadata": {
        "id": "Rqr6u4clvN7I",
        "colab_type": "code",
        "outputId": "3cc82afb-7ff0-4813-a5d8-df1806254013",
        "colab": {
          "base_uri": "https://localhost:8080/",
          "height": 51
        }
      },
      "source": [
        "print('Regressor coeffient or slope:',regressor.coef_[0][0])\n",
        "print('Interception point with axis:',regressor.intercept_[0])"
      ],
      "execution_count": 0,
      "outputs": [
        {
          "output_type": "stream",
          "text": [
            "Regressor coeffient or slope: 240.1396087790633\n",
            "Interception point with axis: 67120.45712450234\n"
          ],
          "name": "stdout"
        }
      ]
    },
    {
      "cell_type": "markdown",
      "metadata": {
        "id": "cWtykiPdCXyY",
        "colab_type": "text"
      },
      "source": [
        "## Plot the test set with scatter plot and add the linear regression model line.\n",
        "Remember linear regression recitation."
      ]
    },
    {
      "cell_type": "code",
      "metadata": {
        "id": "1I_pXHajCtbA",
        "colab_type": "code",
        "outputId": "b7c758fe-ff0d-463c-997d-a522e893f076",
        "colab": {
          "base_uri": "https://localhost:8080/",
          "height": 295
        }
      },
      "source": [
        "\n",
        "less_data = np.random.choice(606, 15)\n",
        "d_X_train = X_train[less_data]\n",
        "d_y_train = y_train[less_data]\n",
        "regressor.fit(d_X_train,d_y_train) \n",
        "\n",
        "# Plot a graph with X_test vs y_test\n",
        "plt.scatter(X_test,y_test,color=\"green\")\n",
        "\n",
        "# Regressior line showing\n",
        "plt.plot(d_X_train,regressor.predict(d_X_train),color=\"red\",linewidth=3)\n",
        "plt.title('Regression(Test Set)')\n",
        "plt.xlabel('Garage Area')\n",
        "plt.ylabel('SalesPrice')\n",
        "plt.show()"
      ],
      "execution_count": 0,
      "outputs": [
        {
          "output_type": "display_data",
          "data": {
            "image/png": "[encoded data removed]",
            "text/plain": [
              "<Figure size 432x288 with 1 Axes>"
            ]
          },
          "metadata": {
            "tags": [],
            "needs_background": "light"
          }
        }
      ]
    },
    {
      "cell_type": "markdown",
      "metadata": {
        "id": "8I4MO2KALY7t",
        "colab_type": "text"
      },
      "source": [
        "# Multiple Linear Regression\n",
        "Select all features.\n",
        "\n",
        "\n"
      ]
    },
    {
      "cell_type": "code",
      "metadata": {
        "id": "t05kOqWgM2jZ",
        "colab_type": "code",
        "outputId": "04ad1618-3678-4768-9091-654579ac99af",
        "colab": {
          "base_uri": "https://localhost:8080/",
          "height": 51
        }
      },
      "source": [
        "df2  = df.drop('SalesPrice', axis=1)\n",
        "\n",
        "df3 = df2.fillna(0.0).astype(int)\n",
        "X = df3\n",
        "y = df[['SalesPrice']]\n",
        "\n",
        "print(X.shape) # Vewing the shape of X\n",
        "print(y.shape) # Vewing the shape of y\n",
        "\n"
      ],
      "execution_count": 0,
      "outputs": [
        {
          "output_type": "stream",
          "text": [
            "(2930, 304)\n",
            "(2930, 1)\n"
          ],
          "name": "stdout"
        }
      ]
    },
    {
      "cell_type": "markdown",
      "metadata": {
        "id": "NOfkzavRNr_p",
        "colab_type": "text"
      },
      "source": [
        "## Rescale the input features. Use MinMaxScaler.\n",
        "\n",
        "---\n",
        "\n",
        "\n",
        "\n",
        "---\n",
        "\n",
        "*italicized text*"
      ]
    },
    {
      "cell_type": "code",
      "metadata": {
        "id": "CgerTDdWN3ZV",
        "colab_type": "code",
        "outputId": "d4d7f712-2c6d-4092-e26f-f258e9c101ae",
        "colab": {
          "base_uri": "https://localhost:8080/",
          "height": 34
        }
      },
      "source": [
        "from sklearn.preprocessing import MinMaxScaler\n",
        "scaler = MinMaxScaler()\n",
        "X = scaler.fit_transform(X)\n",
        "\n",
        "'''\n",
        "from sklearn.preprocessing import MinMaxScaler\n",
        "scaler = MinMaxScaler()\n",
        "X = # code comes here\n",
        "'''\n",
        "#df.dtypes"
      ],
      "execution_count": 0,
      "outputs": [
        {
          "output_type": "execute_result",
          "data": {
            "text/plain": [
              "'\\nfrom sklearn.preprocessing import MinMaxScaler\\nscaler = MinMaxScaler()\\nX = # code comes here\\n'"
            ]
          },
          "metadata": {
            "tags": []
          },
          "execution_count": 18
        }
      ]
    },
    {
      "cell_type": "markdown",
      "metadata": {
        "id": "LPWhiLEQOJXV",
        "colab_type": "text"
      },
      "source": [
        "## Train test split."
      ]
    },
    {
      "cell_type": "code",
      "metadata": {
        "id": "hWHQsWD-OR0X",
        "colab_type": "code",
        "colab": {}
      },
      "source": [
        "x_train, x_test, y_train, y_test = train_test_split(X, y, test_size = 0.2,random_state=15)"
      ],
      "execution_count": 0,
      "outputs": []
    },
    {
      "cell_type": "markdown",
      "metadata": {
        "id": "ta9ugqFEO-3h",
        "colab_type": "text"
      },
      "source": [
        "## Fit regression model."
      ]
    },
    {
      "cell_type": "code",
      "metadata": {
        "id": "tE3FFQAJOz45",
        "colab_type": "code",
        "outputId": "304d8ec4-c49f-48a7-da17-0f7ace1626c3",
        "colab": {
          "base_uri": "https://localhost:8080/",
          "height": 34
        }
      },
      "source": [
        "# Creating a regressior model\n",
        "regressor = linear_model.LinearRegression()\n",
        "# Fiting the dataset into the model\n",
        "regressor.fit(X_train,y_train) "
      ],
      "execution_count": 0,
      "outputs": [
        {
          "output_type": "execute_result",
          "data": {
            "text/plain": [
              "LinearRegression(copy_X=True, fit_intercept=True, n_jobs=None, normalize=False)"
            ]
          },
          "metadata": {
            "tags": []
          },
          "execution_count": 58
        }
      ]
    },
    {
      "cell_type": "markdown",
      "metadata": {
        "id": "ai5eB9elPNOY",
        "colab_type": "text"
      },
      "source": [
        "## Calculate train and test R2."
      ]
    },
    {
      "cell_type": "code",
      "metadata": {
        "id": "pbJWBEnRPOg_",
        "colab_type": "code",
        "outputId": "c4af9027-d508-4dae-be95-728caddfb717",
        "colab": {
          "base_uri": "https://localhost:8080/",
          "height": 51
        }
      },
      "source": [
        "y_pred = regressor.predict(X_train)\n",
        "\n",
        "y_pred2 = regressor.predict(X_test)\n",
        "# R^2 (coefficient of determination) regression score function.\n",
        "\n",
        "# code comes here\n",
        "print(\"Train:\", r2_score(y_train,y_pred)) \n",
        "\n",
        "# code comes here\n",
        "print(\"Test:\", r2_score(y_test,y_pred2))"
      ],
      "execution_count": 0,
      "outputs": [
        {
          "output_type": "stream",
          "text": [
            "Train: 0.3064593444866025\n",
            "Test: 0.2975731566605675\n"
          ],
          "name": "stdout"
        }
      ]
    },
    {
      "cell_type": "markdown",
      "metadata": {
        "id": "iZTYM-76v__6",
        "colab_type": "text"
      },
      "source": [
        "## Print the regression coefficients."
      ]
    },
    {
      "cell_type": "code",
      "metadata": {
        "id": "tw10OFDUwDtY",
        "colab_type": "code",
        "outputId": "2fd34617-8d8a-4a99-ba3b-f22d19ebe809",
        "colab": {
          "base_uri": "https://localhost:8080/",
          "height": 51
        }
      },
      "source": [
        "print('Regressor coeffients for multiple linear regression:',regressor.coef_[0][0])\n",
        "\n",
        "print('Interception point with axis:',regressor.intercept_[0])"
      ],
      "execution_count": 0,
      "outputs": [
        {
          "output_type": "stream",
          "text": [
            "Regressor coeffients for multiple linear regression: 168.19366678745513\n",
            "Interception point with axis: 80131.0372792201\n"
          ],
          "name": "stdout"
        }
      ]
    },
    {
      "cell_type": "markdown",
      "metadata": {
        "id": "PtwgWJvwQfo-",
        "colab_type": "text"
      },
      "source": [
        "# Ridge Regression\n",
        "https://scikit-learn.org/stable/modules/generated/sklearn.model_selection.KFold.html\n",
        "\n",
        "https://scikit-learn.org/stable/modules/generated/sklearn.linear_model.RidgeCV.html\n",
        "\n",
        "## Use cross-validation to estimate alpha. Set the fold size to 5."
      ]
    },
    {
      "cell_type": "code",
      "metadata": {
        "id": "niasM1bHSO0r",
        "colab_type": "code",
        "outputId": "9295fbca-2cf5-4c32-df57-42319e311432",
        "colab": {
          "base_uri": "https://localhost:8080/",
          "height": 34
        }
      },
      "source": [
        "from sklearn.model_selection import KFold\n",
        "from sklearn.linear_model import RidgeCV\n",
        "kfold = KFold(n_splits=5)\n",
        "\n",
        "alphas=[1e-3, 1e-2, 1e-1, 1, 2, 5, 8, 10]\n",
        "# Create and fit model\n",
        "model_rcv = RidgeCV(alphas).fit(X, y)\n",
        "\n",
        "model_rcv_temp = RidgeCV(alphas).fit(X, y)\n",
        "# code comes here\n",
        "model_rcv.score(X, y)\n",
        "model_rcv_temp.score(X, y)\n"
      ],
      "execution_count": 0,
      "outputs": [
        {
          "output_type": "execute_result",
          "data": {
            "text/plain": [
              "0.9120344271941544"
            ]
          },
          "metadata": {
            "tags": []
          },
          "execution_count": 34
        }
      ]
    },
    {
      "cell_type": "markdown",
      "metadata": {
        "id": "WuXiTAzbTw-E",
        "colab_type": "text"
      },
      "source": [
        "## Calculate the train and test R2."
      ]
    },
    {
      "cell_type": "code",
      "metadata": {
        "id": "uljtYcwlUasT",
        "colab_type": "code",
        "outputId": "65b1a144-0ad6-4c98-c2a7-43027385cdc7",
        "colab": {
          "base_uri": "https://localhost:8080/",
          "height": 51
        }
      },
      "source": [
        "from sklearn.linear_model import Ridge\n",
        "#rr = Ridge(alphas)\n",
        "#rr.fit(X_train, y_train) \n",
        "\n",
        "rr = Ridge(alpha=5)\n",
        "rr.fit(X_train, y_train) \n",
        "\n",
        "pred_train_rr= rr.predict(X_train)\n",
        "print('Train: ',r2_score(y_train, pred_train_rr))\n",
        "\n",
        "pred_test_rr= rr.predict(X_test)\n",
        "print('Test: ',r2_score(y_test, pred_test_rr))"
      ],
      "execution_count": 0,
      "outputs": [
        {
          "output_type": "stream",
          "text": [
            "Train:  0.4118564229151245\n",
            "Test:  0.4021446957485382\n"
          ],
          "name": "stdout"
        }
      ]
    },
    {
      "cell_type": "markdown",
      "metadata": {
        "id": "h8tDKPJHUkuG",
        "colab_type": "text"
      },
      "source": [
        "## Print the best alpha."
      ]
    },
    {
      "cell_type": "code",
      "metadata": {
        "id": "1EUQMEgnUr0k",
        "colab_type": "code",
        "outputId": "62a45055-f941-4f96-e37b-736b3a7e8693",
        "colab": {
          "base_uri": "https://localhost:8080/",
          "height": 34
        }
      },
      "source": [
        "print(\"Alpha:\", model_rcv.alpha_)"
      ],
      "execution_count": 0,
      "outputs": [
        {
          "output_type": "stream",
          "text": [
            "Alpha: 5.0\n"
          ],
          "name": "stdout"
        }
      ]
    },
    {
      "cell_type": "markdown",
      "metadata": {
        "id": "hK4tYYscvyJG",
        "colab_type": "text"
      },
      "source": [
        "## Print the regression coefficients."
      ]
    },
    {
      "cell_type": "code",
      "metadata": {
        "id": "KBcaia_5v5fF",
        "colab_type": "code",
        "outputId": "78f2d470-d1cb-417b-a173-189369aefa2e",
        "colab": {
          "base_uri": "https://localhost:8080/",
          "height": 1000
        }
      },
      "source": [
        "\n",
        "coefs = []\n",
        "for a in alphas:\n",
        "    ridge = linear_model.Ridge(alpha=a, fit_intercept=False)\n",
        "    ridge.fit(X, y)\n",
        "    coefs.append(ridge.coef_)\n",
        "\n",
        "# Creating a regressior model\n",
        "regressor = linear_model.LinearRegression()\n",
        "# Fiting the dataset into the model\n",
        "regressor.fit(X_train,y_train) \n",
        "print('Regressor coeffients for ridge regression:',regressor.coef_[0][0])\n",
        "print('***********')\n",
        "\n",
        "print('coefs:',coefs[0][0])\n",
        "\n",
        "\n"
      ],
      "execution_count": 0,
      "outputs": [
        {
          "output_type": "stream",
          "text": [
            "Regressor coeffients for ridge regression: 240.1396087790633\n",
            "***********\n",
            "coefs: [-1.12531759e+04  1.18344417e+04  1.26447201e+05  5.75342973e+04\n",
            "  4.66930171e+04  4.35492494e+04  4.18080649e+03  3.84183876e+04\n",
            "  1.22178830e+05  2.45944774e+04  3.01746928e+03  1.16891630e+05\n",
            "  1.12969385e+05  7.70736575e+04  3.29503560e+03  1.31972544e+05\n",
            "  4.41917853e+03 -2.76373884e+03  1.32479162e+04  3.78560263e+03\n",
            " -3.12066942e+04 -3.66510379e+04  1.27938392e+04  3.01328041e+04\n",
            "  1.19129269e+04  1.99211773e+04  2.27340435e+04  1.26701441e+04\n",
            " -2.16846363e+03  5.12814863e+03 -1.90092854e+02  2.39294958e+04\n",
            " -8.92695521e+02  4.76022023e+03 -1.73021218e+03 -2.55880961e+03\n",
            " -3.12781549e+04 -8.88978668e+03 -1.28982308e+03  1.72363573e+04\n",
            "  5.56186511e+03  1.20822717e+03 -4.49223526e+03 -2.09567660e+04\n",
            " -9.86784599e+02  8.29711293e+02 -2.88683878e+02 -7.12117533e+03\n",
            " -3.29076735e+03 -5.89718959e+03 -5.63441810e+03 -7.11504934e+03\n",
            "  1.11394896e+03 -1.30676573e+04 -2.87479294e+03  7.50069407e+03\n",
            " -1.44015141e+04 -1.50427305e+04 -3.66435065e+03  1.73521818e+03\n",
            " -8.18189171e+03 -8.36192364e+03 -3.47060231e+03 -6.27917363e+02\n",
            "  4.69016805e+03 -2.60058014e+04 -2.26576900e+03  5.08766631e+03\n",
            "  4.12115772e+03 -5.94356586e+03 -1.31838973e+04 -1.22075885e+04\n",
            "  2.86240671e+03 -1.95262541e+04 -1.35468682e+04  5.08068738e+03\n",
            "  1.02069307e+05 -1.20159800e+04 -1.16642248e+04 -3.22110946e+03\n",
            " -1.79505537e+04 -1.70529605e+04  1.17676013e+04 -1.87336365e+04\n",
            "  2.17374624e+04  1.29516498e+04 -1.62527892e+04 -1.46785058e+04\n",
            " -1.13726461e+04 -1.34071418e+04  7.09905108e+03  3.35912817e+04\n",
            " -1.18023406e+04 -1.34859907e+04 -9.05111188e+03 -4.38726367e+03\n",
            "  4.05853339e+03  3.80531174e+03  9.06258344e+03 -9.61040250e+03\n",
            " -9.37343290e+02 -6.03655561e+03 -8.84730224e+03  9.61731825e+03\n",
            "  2.54036067e+03  1.10256656e+04  6.56197692e+04 -1.10502430e+05\n",
            " -3.11559084e+04  1.16179988e+04  1.92936751e+04  5.44498461e+03\n",
            "  2.99885343e+03 -7.15658111e+03 -1.52838134e+04 -7.94699389e+03\n",
            " -3.28241285e+03  4.81916215e+03  2.57197937e+03 -2.00040524e+04\n",
            " -5.32400466e+03 -5.18183227e+03  2.97133517e+03  1.48627515e+03\n",
            " -1.10274220e+04 -3.68132197e+03 -4.50623238e+03 -3.46179014e+03\n",
            " -1.44169306e+04  1.51501469e+04 -6.10553812e+05  6.25788249e+04\n",
            "  1.22521536e+05  1.03868471e+05  6.05696208e+04  6.20825819e+04\n",
            "  6.18656796e+04  1.15123547e+05 -1.87092438e+03 -1.38654511e+04\n",
            "  3.69752740e+03  1.44962062e+04  2.13649617e+04 -9.60618282e+03\n",
            " -7.43545617e+03 -2.28672570e+04 -1.13434455e+03 -4.65696274e+03\n",
            "  2.69076405e+04 -4.48777901e+03 -7.49721288e+02 -1.13301795e+04\n",
            " -4.11914939e+03 -6.28647849e+03 -2.96943429e+03  1.30081623e+04\n",
            " -7.08840409e+03 -7.52471706e+03 -2.32492429e+04  4.71732929e+03\n",
            "  3.71304840e+02  3.21718876e+03 -1.64008907e+03 -1.57938916e+04\n",
            " -2.58635777e+03  2.69076405e+04 -1.51906439e+04 -8.69140883e+02\n",
            "  7.46856055e+03 -8.97196819e+02  1.75381708e+02 -5.38664860e+03\n",
            " -1.28789087e+03 -8.53123731e+04  3.40500113e+03  4.01937402e+03\n",
            "  1.18055173e+04 -6.43637268e+03 -1.31443718e+04 -1.41683233e+04\n",
            " -5.38906801e+03 -4.65327883e+03 -7.69802436e+02 -1.16504203e+04\n",
            "  5.19019142e+02 -2.74920912e+03 -3.32141324e+03 -1.51765710e+03\n",
            " -5.98968552e+03  8.25131302e+03 -1.66168985e+04 -3.70309062e+03\n",
            " -1.66537448e+04 -2.14457244e+04 -9.12645767e+03 -1.91081825e+04\n",
            " -2.22456081e+04 -1.35203412e+04 -1.50038592e+04 -4.45125303e+03\n",
            " -1.48161387e+04  1.10127399e+04  2.19204403e+04  4.30566000e+03\n",
            "  5.23928749e+03 -1.18017660e+04 -1.17156460e+04 -8.41046399e+03\n",
            " -1.56726174e+04 -1.41287798e+04 -8.30792699e+03  2.63968367e+04\n",
            "  1.93468932e+04  3.30699283e+04  1.70869561e+04  1.88307433e+04\n",
            "  2.35294417e+04 -6.35801145e+03  1.74777465e+03  8.38847787e+02\n",
            " -5.98901661e+03 -2.74884225e+04  1.53052774e+04  3.37615169e+02\n",
            " -3.37953373e+03 -1.46427994e+03 -1.48294883e+04 -2.60786368e+03\n",
            " -9.21879856e+03 -1.27247519e+04 -9.58044799e+03 -9.92301951e+03\n",
            " -1.04250965e+04  4.30072275e+03 -1.01611250e+04  5.75155026e+03\n",
            " -1.62838042e+04 -1.51433384e+04  1.97900914e+04 -1.60580492e+04\n",
            " -6.87051464e+03 -6.34063714e+03  5.42015718e+03  5.16660216e+03\n",
            " -2.60418066e+03 -4.25643832e+03 -2.62483655e+04  1.37898267e+04\n",
            " -2.70942510e+03 -9.05689320e+03 -5.82941229e+03 -3.94789967e+03\n",
            " -6.67365456e+03 -2.83387385e+04 -1.82444896e+04 -1.72278319e+04\n",
            " -1.83981812e+04 -2.19633313e+04 -1.75245217e+04  6.15105378e+03\n",
            "  3.42961764e+03  6.44766452e+03  6.63937763e+04 -1.26598325e+04\n",
            " -6.26526629e+02 -2.45723195e+04 -1.25067615e+04 -4.32651144e+04\n",
            "  1.56458255e+04  9.33117810e+03  1.76912807e+04  1.66251662e+04\n",
            " -6.91658089e+03 -8.34382706e+03 -6.68314280e+03  8.83224558e+04\n",
            "  2.76072813e+04  3.06461035e+04  9.03789495e+03 -1.97074198e+03\n",
            "  1.74058859e+03  1.95484207e+03 -1.62955326e+03 -5.31416889e+05\n",
            "  3.29679814e+03  2.07219805e+04  1.10223543e+03 -5.64641044e+04\n",
            " -9.03973768e+03  1.46917496e+03  2.00821628e+04 -2.67298657e+03\n",
            " -9.36861334e+03 -1.80627006e+03  4.06079490e+03 -3.75183134e+03\n",
            " -1.42782171e+04 -6.63802701e+03 -1.14257354e+04  5.00863171e+03\n",
            "  1.75443014e+03 -9.34614087e+03 -3.27219716e+03 -4.66253892e+03]\n"
          ],
          "name": "stdout"
        }
      ]
    },
    {
      "cell_type": "code",
      "metadata": {
        "id": "lz_8uF0xXD_T",
        "colab_type": "code",
        "colab": {
          "base_uri": "https://localhost:8080/",
          "height": 238
        },
        "outputId": "55033c8b-4d50-4d75-b039-dfa17dc7ee73"
      },
      "source": [
        "## This is Part B in HW\n",
        "\n",
        "from sklearn import metrics\n",
        "\n",
        "# Constants\n",
        "O=\"Orange\"\n",
        "L=\"Lemon\"\n",
        "A=\"Apple\"\n",
        "\n",
        "# True values\n",
        "y_true = [O,O,O,O,O,L,L,A,A]\n",
        "# Predicted values\n",
        "y_pred = [L,L,A,O,A,L,A,A,A]\n",
        "\n",
        "# Print the confusion matrix\n",
        "print(metrics.confusion_matrix(y_true, y_pred))\n",
        "\n",
        "# Print the precision and recall, among other metrics\n",
        "print(metrics.classification_report(y_true, y_pred, digits=3))"
      ],
      "execution_count": 1,
      "outputs": [
        {
          "output_type": "stream",
          "text": [
            "[[2 0 0]\n",
            " [1 1 0]\n",
            " [2 2 1]]\n",
            "              precision    recall  f1-score   support\n",
            "\n",
            "       Apple      0.400     1.000     0.571         2\n",
            "       Lemon      0.333     0.500     0.400         2\n",
            "      Orange      1.000     0.200     0.333         5\n",
            "\n",
            "    accuracy                          0.444         9\n",
            "   macro avg      0.578     0.567     0.435         9\n",
            "weighted avg      0.719     0.444     0.401         9\n",
            "\n"
          ],
          "name": "stdout"
        }
      ]
    }
  ]
}